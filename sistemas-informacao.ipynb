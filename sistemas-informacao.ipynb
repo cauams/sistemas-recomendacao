{
 "cells": [
  {
   "cell_type": "markdown",
   "id": "eb8e97cc",
   "metadata": {},
   "source": [
    "# Introdução\n",
    "\n",
    "Sistemas de recomendação são ferramentas que filtram e processam informações, retornando um resultado que faça sentido para o contexto em que está sendo aplicado. Esses sistemas utilizam algoritmos específicos para oferecer sugestões personalizadas, facilitando a tomada de decisão do usuário. Neste estudo, buscamos compreender os principais algoritmos empregados em sistemas de recomendação e avaliar seu desempenho aplicando-os ao \"Book-Crossing Dataset\", um conjunto de dados que reúne informações sobre livros, avaliações e interações de usuários.\n",
    "\n",
    "A partir dessa análise, pretendemos identificar os métodos mais eficazes para realizar recomendações precisas dentro deste contexto."
   ]
  },
  {
   "cell_type": "markdown",
   "id": "11674458",
   "metadata": {},
   "source": [
    "# Materiais e Métodos:"
   ]
  },
  {
   "cell_type": "markdown",
   "id": "58eb9e07",
   "metadata": {},
   "source": [
    "## Dependências\n",
    "\n",
    "As bibliotecas necessárias para rodar os nossos testes de caso."
   ]
  },
  {
   "cell_type": "code",
   "execution_count": 1,
   "id": "f2202337",
   "metadata": {},
   "outputs": [
    {
     "name": "stdout",
     "output_type": "stream",
     "text": [
      "Defaulting to user installation because normal site-packages is not writeable\n",
      "Requirement already satisfied: kagglehub in /home/cscarabelotti/.local/lib/python3.13/site-packages (0.3.4)\n",
      "Requirement already satisfied: packaging in /usr/lib/python3.13/site-packages (from kagglehub) (24.1)\n",
      "Requirement already satisfied: requests in /usr/lib/python3.13/site-packages (from kagglehub) (2.32.3)\n",
      "Requirement already satisfied: tqdm in /usr/lib/python3.13/site-packages (from kagglehub) (4.66.5)\n",
      "Requirement already satisfied: charset-normalizer<4,>=2 in /usr/lib/python3.13/site-packages (from requests->kagglehub) (3.3.2)\n",
      "Requirement already satisfied: idna<4,>=2.5 in /usr/lib/python3.13/site-packages (from requests->kagglehub) (3.7)\n",
      "Requirement already satisfied: urllib3<3,>=1.21.1 in /usr/lib/python3.13/site-packages (from requests->kagglehub) (1.26.20)\n",
      "Note: you may need to restart the kernel to use updated packages.\n",
      "Defaulting to user installation because normal site-packages is not writeable\n",
      "Requirement already satisfied: pandas in /home/cscarabelotti/.local/lib/python3.13/site-packages (2.2.3)\n",
      "Requirement already satisfied: numpy>=1.26.0 in /home/cscarabelotti/.local/lib/python3.13/site-packages (from pandas) (2.1.3)\n",
      "Requirement already satisfied: python-dateutil>=2.8.2 in /usr/lib/python3.13/site-packages (from pandas) (2.8.2)\n",
      "Requirement already satisfied: pytz>=2020.1 in /home/cscarabelotti/.local/lib/python3.13/site-packages (from pandas) (2024.2)\n",
      "Requirement already satisfied: tzdata>=2022.7 in /home/cscarabelotti/.local/lib/python3.13/site-packages (from pandas) (2024.2)\n",
      "Requirement already satisfied: six>=1.5 in /usr/lib/python3.13/site-packages (from python-dateutil>=2.8.2->pandas) (1.16.0)\n",
      "Note: you may need to restart the kernel to use updated packages.\n",
      "Defaulting to user installation because normal site-packages is not writeable\n",
      "Requirement already satisfied: scikit-learn in /home/cscarabelotti/.local/lib/python3.13/site-packages (1.5.2)\n",
      "Requirement already satisfied: numpy>=1.19.5 in /home/cscarabelotti/.local/lib/python3.13/site-packages (from scikit-learn) (2.1.3)\n",
      "Requirement already satisfied: scipy>=1.6.0 in /home/cscarabelotti/.local/lib/python3.13/site-packages (from scikit-learn) (1.14.1)\n",
      "Requirement already satisfied: joblib>=1.2.0 in /home/cscarabelotti/.local/lib/python3.13/site-packages (from scikit-learn) (1.4.2)\n",
      "Requirement already satisfied: threadpoolctl>=3.1.0 in /home/cscarabelotti/.local/lib/python3.13/site-packages (from scikit-learn) (3.5.0)\n",
      "Note: you may need to restart the kernel to use updated packages.\n"
     ]
    }
   ],
   "source": [
    "%pip install kagglehub\n",
    "%pip install pandas\n",
    "%pip install scikit-learn"
   ]
  },
  {
   "cell_type": "code",
   "execution_count": 2,
   "id": "90fd3241",
   "metadata": {},
   "outputs": [
    {
     "name": "stderr",
     "output_type": "stream",
     "text": [
      "/usr/lib/python3.13/site-packages/tqdm/auto.py:21: TqdmWarning: IProgress not found. Please update jupyter and ipywidgets. See https://ipywidgets.readthedocs.io/en/stable/user_install.html\n",
      "  from .autonotebook import tqdm as notebook_tqdm\n"
     ]
    }
   ],
   "source": [
    "import kagglehub\n",
    "import pandas as pd\n",
    "from sklearn.model_selection import train_test_split\n",
    "from sklearn.neighbors import NearestNeighbors\n",
    "from sklearn.metrics import pairwise_distances\n",
    "from sklearn.metrics import mean_squared_error\n",
    "import random\n",
    "import numpy as np\n",
    "import psutil\n",
    "import os"
   ]
  },
  {
   "cell_type": "markdown",
   "id": "4a7dbdab",
   "metadata": {},
   "source": [
    "## DataSet\n",
    "\n",
    "Nós escolhemos o Book-Crossing Dataset, que relaciona usuários, livros e avaliações, permitindo analisar padrões de leitura e preferências. Com isso, aplicaremos algoritmos de recomendação para sugerir livros personalizados, baseados em interações anteriores."
   ]
  },
  {
   "cell_type": "markdown",
   "id": "1cb9323f",
   "metadata": {},
   "source": [
    "### Importa DataSet"
   ]
  },
  {
   "cell_type": "code",
   "execution_count": 3,
   "id": "312d169b",
   "metadata": {},
   "outputs": [],
   "source": [
    "path = kagglehub.dataset_download(\"somnambwl/bookcrossing-dataset\")\n",
    "\n",
    "books = pd.read_csv(path+\"/Books.csv\", sep=\";\", header=0)\n",
    "users = pd.read_csv(path+\"/Users.csv\", sep=\";\", low_memory=False, header=0)\n",
    "ratings = pd.read_csv(path+\"/Ratings.csv\", sep=\";\", low_memory=False, header=0)"
   ]
  },
  {
   "cell_type": "markdown",
   "id": "84cb3fe4",
   "metadata": {},
   "source": [
    "### Visualização dos dados importados"
   ]
  },
  {
   "cell_type": "code",
   "execution_count": null,
   "id": "aaa0a90c",
   "metadata": {},
   "outputs": [],
   "source": [
    "books.head()"
   ]
  },
  {
   "cell_type": "code",
   "execution_count": null,
   "id": "5bc84bfd",
   "metadata": {},
   "outputs": [],
   "source": [
    "users.head()"
   ]
  },
  {
   "cell_type": "code",
   "execution_count": null,
   "id": "aa340368",
   "metadata": {},
   "outputs": [],
   "source": [
    "ratings.head()"
   ]
  },
  {
   "cell_type": "markdown",
   "id": "e467d3bd",
   "metadata": {},
   "source": [
    "### Filtrando dados relevantes"
   ]
  },
  {
   "cell_type": "code",
   "execution_count": 4,
   "id": "78c987fd",
   "metadata": {},
   "outputs": [],
   "source": [
    "min_user_ratings = 5  # Usuarios que avaliaram no minimo 5 livros\n",
    "min_book_ratings = 10  # Livros com no minimo 10 avaliações\n",
    "\n",
    "user_counts = ratings['User-ID'].value_counts()\n",
    "book_counts = ratings['ISBN'].value_counts()\n",
    "\n",
    "filtered_ratings = ratings[\n",
    "    ratings['User-ID'].isin(user_counts[user_counts >= min_user_ratings].index) &\n",
    "    ratings['ISBN'].isin(book_counts[book_counts >= min_book_ratings].index)\n",
    "]"
   ]
  },
  {
   "cell_type": "markdown",
   "id": "30546e85",
   "metadata": {},
   "source": [
    "### Criação da matriz de interações"
   ]
  },
  {
   "cell_type": "code",
   "execution_count": 5,
   "id": "6fc89e7c",
   "metadata": {},
   "outputs": [],
   "source": [
    "interaction_matrix = filtered_ratings.pivot(index='User-ID', columns='ISBN', values='Rating')\n",
    "interaction_matrix = interaction_matrix.fillna(0)"
   ]
  },
  {
   "cell_type": "code",
   "execution_count": null,
   "id": "7279856d",
   "metadata": {},
   "outputs": [],
   "source": [
    "# exibir os valores:\n",
    "interaction_matrix.head()"
   ]
  },
  {
   "cell_type": "markdown",
   "id": "34a22190",
   "metadata": {},
   "source": [
    "## KNN"
   ]
  },
  {
   "cell_type": "markdown",
   "id": "4c9e4922",
   "metadata": {},
   "source": [
    "### Calculando a distancia euclidiana"
   ]
  },
  {
   "cell_type": "code",
   "execution_count": 6,
   "id": "0c9695f8",
   "metadata": {},
   "outputs": [],
   "source": [
    "distance_matrix = pairwise_distances(interaction_matrix, metric='euclidean')\n",
    "distance_df = pd.DataFrame(distance_matrix, index=interaction_matrix.index, columns=interaction_matrix.index)"
   ]
  },
  {
   "cell_type": "markdown",
   "id": "7c5e569d",
   "metadata": {},
   "source": [
    "### Encontrando os K-vizinhos mais proximos"
   ]
  },
  {
   "cell_type": "code",
   "execution_count": 7,
   "id": "8299f0bf",
   "metadata": {},
   "outputs": [],
   "source": [
    "def get_nearest_neighbors(user_id, k):\n",
    "    distances = distance_df.loc[user_id]\n",
    "    neighbors = distances.sort_values().iloc[1:k+1]\n",
    "    return neighbors.index"
   ]
  },
  {
   "cell_type": "markdown",
   "id": "4a196d79",
   "metadata": {},
   "source": [
    "### Gerando as recomendações"
   ]
  },
  {
   "cell_type": "code",
   "execution_count": 9,
   "id": "2eceadca",
   "metadata": {},
   "outputs": [],
   "source": [
    "def recommend_books(user_id, k, n_recommendations):\n",
    "    if user_id not in interaction_matrix.index:\n",
    "        raise ValueError(f\"Usuário {user_id} não encontrado na matriz de interação.\")\n",
    "\n",
    "    neighbors = get_nearest_neighbors(user_id, k)\n",
    "    neighbor_ratings = interaction_matrix.loc[neighbors]\n",
    "    \n",
    "    mean_ratings = neighbor_ratings.mean(axis=0)\n",
    "    \n",
    "    unread_books = interaction_matrix.loc[user_id] == 0\n",
    "    recommendations = mean_ratings[unread_books].sort_values(ascending=False).head(n_recommendations)\n",
    "    \n",
    "    recommendations = recommendations.reset_index().merge(\n",
    "        books, left_on='ISBN', right_on='ISBN'\n",
    "    )\n",
    "    \n",
    "    return recommendations[['Title', 'ISBN', 0]].rename(columns={0: 'Predicted-Rating'})"
   ]
  },
  {
   "cell_type": "markdown",
   "id": "c714f861",
   "metadata": {},
   "source": [
    "### Testando o algoritmo"
   ]
  },
  {
   "cell_type": "code",
   "execution_count": 10,
   "id": "41b2ed04",
   "metadata": {},
   "outputs": [
    {
     "name": "stdout",
     "output_type": "stream",
     "text": [
      "                                               Title        ISBN  \\\n",
      "0  Harry Potter and the Prisoner of Azkaban (Book 3)  0439136369   \n",
      "1                                     Atlantis Found  0425177173   \n",
      "2                            Whirlwind (The X-Files)  0061054151   \n",
      "3                                    Julie and Romeo  0609606727   \n",
      "4                                        Angel Falls  0609605925   \n",
      "\n",
      "   Predicted-Rating  \n",
      "0               2.8  \n",
      "1               1.8  \n",
      "2               1.6  \n",
      "3               0.0  \n",
      "4               0.0  \n"
     ]
    }
   ],
   "source": [
    "recommended_books = recommend_books(100004, 5, 5)\n",
    "print(recommended_books)"
   ]
  },
  {
   "cell_type": "markdown",
   "id": "dce0f2c4",
   "metadata": {},
   "source": [
    "## Avaliação do algoritmo"
   ]
  },
  {
   "cell_type": "code",
   "execution_count": 12,
   "id": "7af4da6a",
   "metadata": {},
   "outputs": [
    {
     "name": "stdout",
     "output_type": "stream",
     "text": [
      "Memória utilizada antes: 84.9%\n",
      "Memória utilizada depois: 84.8%\n"
     ]
    }
   ],
   "source": [
    "print(f'Memória utilizada antes: {psutil.virtual_memory().percent}%')\n",
    "def train_test_split_optimized(interaction_matrix, test_fraction=0.4):\n",
    "    train_matrix = {}\n",
    "    test_matrix = {}\n",
    "\n",
    "    for user_id in interaction_matrix.index:\n",
    "        non_zero_items = interaction_matrix.loc[user_id][interaction_matrix.loc[user_id] > 0].index\n",
    "        test_size = int(len(non_zero_items) * test_fraction)\n",
    "        \n",
    "        test_items = random.sample(list(non_zero_items), test_size)\n",
    "        \n",
    "        user_train = {item: interaction_matrix.loc[user_id, item] for item in non_zero_items if item not in test_items}\n",
    "        user_test = {item: 0 for item in test_items}\n",
    "        \n",
    "        train_matrix[user_id] = user_train\n",
    "        test_matrix[user_id] = user_test\n",
    "    \n",
    "    return train_matrix, test_matrix\n",
    "\n",
    "\n",
    "train_matrix, test_matrix = train_test_split_optimized(interaction_matrix, test_fraction=0.4)\n",
    "print(f'Memória utilizada depois: {psutil.virtual_memory().percent}%')"
   ]
  }
 ],
 "metadata": {
  "kernelspec": {
   "display_name": "Python 3 (ipykernel)",
   "language": "python",
   "name": "python3"
  }
 },
 "nbformat": 4,
 "nbformat_minor": 5
}
