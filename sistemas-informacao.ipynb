{
 "cells": [
  {
   "cell_type": "markdown",
   "id": "eb8e97cc",
   "metadata": {},
   "source": [
    "# Introdução\n",
    "\n",
    "Sistemas de recomendação são ferramentas que filtram e processam informações, retornando um resultado que faça sentido para o contexto em que está sendo aplicado. Esses sistemas utilizam algoritmos específicos para oferecer sugestões personalizadas, facilitando a tomada de decisão do usuário. Neste estudo, buscamos compreender os principais algoritmos empregados em sistemas de recomendação e avaliar seu desempenho aplicando-os ao \"Book-Crossing Dataset\", um conjunto de dados que reúne informações sobre livros, avaliações e interações de usuários.\n",
    "\n",
    "A partir dessa análise, pretendemos identificar os métodos mais eficazes para realizar recomendações precisas dentro deste contexto."
   ]
  },
  {
   "cell_type": "markdown",
   "id": "11674458",
   "metadata": {},
   "source": [
    "# Materiais e Métodos:"
   ]
  },
  {
   "cell_type": "markdown",
   "id": "58eb9e07",
   "metadata": {},
   "source": [
    "## Dependências\n",
    "\n",
    "As bibliotecas necessárias para rodar os nossos testes de caso."
   ]
  },
  {
   "cell_type": "code",
   "execution_count": 1,
   "id": "f2202337",
   "metadata": {},
   "outputs": [
    {
     "name": "stdout",
     "output_type": "stream",
     "text": [
      "Defaulting to user installation because normal site-packages is not writeable\n",
      "Requirement already satisfied: kagglehub in ./.local/lib/python3.13/site-packages (0.3.4)\n",
      "Requirement already satisfied: packaging in /usr/lib/python3.13/site-packages (from kagglehub) (24.1)\n",
      "Requirement already satisfied: requests in /usr/lib/python3.13/site-packages (from kagglehub) (2.32.3)\n",
      "Requirement already satisfied: tqdm in /usr/lib/python3.13/site-packages (from kagglehub) (4.66.5)\n",
      "Requirement already satisfied: charset-normalizer<4,>=2 in /usr/lib/python3.13/site-packages (from requests->kagglehub) (3.3.2)\n",
      "Requirement already satisfied: idna<4,>=2.5 in /usr/lib/python3.13/site-packages (from requests->kagglehub) (3.7)\n",
      "Requirement already satisfied: urllib3<3,>=1.21.1 in /usr/lib/python3.13/site-packages (from requests->kagglehub) (1.26.20)\n",
      "Note: you may need to restart the kernel to use updated packages.\n",
      "Defaulting to user installation because normal site-packages is not writeable\n",
      "Requirement already satisfied: pandas in ./.local/lib/python3.13/site-packages (2.2.3)\n",
      "Requirement already satisfied: numpy>=1.26.0 in ./.local/lib/python3.13/site-packages (from pandas) (2.1.3)\n",
      "Requirement already satisfied: python-dateutil>=2.8.2 in /usr/lib/python3.13/site-packages (from pandas) (2.8.2)\n",
      "Requirement already satisfied: pytz>=2020.1 in ./.local/lib/python3.13/site-packages (from pandas) (2024.2)\n",
      "Requirement already satisfied: tzdata>=2022.7 in ./.local/lib/python3.13/site-packages (from pandas) (2024.2)\n",
      "Requirement already satisfied: six>=1.5 in /usr/lib/python3.13/site-packages (from python-dateutil>=2.8.2->pandas) (1.16.0)\n",
      "Note: you may need to restart the kernel to use updated packages.\n",
      "Defaulting to user installation because normal site-packages is not writeable\n",
      "Requirement already satisfied: scikit-learn in ./.local/lib/python3.13/site-packages (1.5.2)\n",
      "Requirement already satisfied: numpy>=1.19.5 in ./.local/lib/python3.13/site-packages (from scikit-learn) (2.1.3)\n",
      "Requirement already satisfied: scipy>=1.6.0 in ./.local/lib/python3.13/site-packages (from scikit-learn) (1.14.1)\n",
      "Requirement already satisfied: joblib>=1.2.0 in ./.local/lib/python3.13/site-packages (from scikit-learn) (1.4.2)\n",
      "Requirement already satisfied: threadpoolctl>=3.1.0 in ./.local/lib/python3.13/site-packages (from scikit-learn) (3.5.0)\n",
      "Note: you may need to restart the kernel to use updated packages.\n"
     ]
    }
   ],
   "source": [
    "%pip install kagglehub\n",
    "%pip install pandas\n",
    "%pip install scikit-learn"
   ]
  },
  {
   "cell_type": "code",
   "execution_count": 13,
   "id": "90fd3241",
   "metadata": {},
   "outputs": [],
   "source": [
    "import kagglehub\n",
    "import pandas as pd\n",
    "from sklearn.model_selection import train_test_split\n",
    "from sklearn.neighbors import NearestNeighbors\n",
    "from sklearn.metrics import pairwise_distances\n",
    "import os"
   ]
  },
  {
   "cell_type": "markdown",
   "id": "4a7dbdab",
   "metadata": {},
   "source": [
    "## DataSet\n",
    "\n",
    "Nós escolhemos o Book-Crossing Dataset, que relaciona usuários, livros e avaliações, permitindo analisar padrões de leitura e preferências. Com isso, aplicaremos algoritmos de recomendação para sugerir livros personalizados, baseados em interações anteriores."
   ]
  },
  {
   "cell_type": "markdown",
   "id": "1cb9323f",
   "metadata": {},
   "source": [
    "### Importa DataSet"
   ]
  },
  {
   "cell_type": "code",
   "execution_count": null,
   "id": "312d169b",
   "metadata": {},
   "outputs": [],
   "source": [
    "path = kagglehub.dataset_download(\"somnambwl/bookcrossing-dataset\")\n",
    "\n",
    "books = pd.read_csv(path+\"/Books.csv\", sep=\";\", header=0)\n",
    "users = pd.read_csv(path+\"/Users.csv\", sep=\";\", low_memory=False, header=0)\n",
    "ratings = pd.read_csv(path+\"/Ratings.csv\", sep=\";\", low_memory=False, header=0)"
   ]
  },
  {
   "cell_type": "markdown",
   "id": "84cb3fe4",
   "metadata": {},
   "source": [
    "### Visualização dos dados importados"
   ]
  },
  {
   "cell_type": "code",
   "execution_count": 4,
   "id": "aaa0a90c",
   "metadata": {},
   "outputs": [
    {
     "data": {
      "text/html": [
       "<div>\n",
       "<style scoped>\n",
       "    .dataframe tbody tr th:only-of-type {\n",
       "        vertical-align: middle;\n",
       "    }\n",
       "\n",
       "    .dataframe tbody tr th {\n",
       "        vertical-align: top;\n",
       "    }\n",
       "\n",
       "    .dataframe thead th {\n",
       "        text-align: right;\n",
       "    }\n",
       "</style>\n",
       "<table border=\"1\" class=\"dataframe\">\n",
       "  <thead>\n",
       "    <tr style=\"text-align: right;\">\n",
       "      <th></th>\n",
       "      <th>ISBN</th>\n",
       "      <th>Title</th>\n",
       "      <th>Author</th>\n",
       "      <th>Year</th>\n",
       "      <th>Publisher</th>\n",
       "    </tr>\n",
       "  </thead>\n",
       "  <tbody>\n",
       "    <tr>\n",
       "      <th>0</th>\n",
       "      <td>0195153448</td>\n",
       "      <td>Classical Mythology</td>\n",
       "      <td>Mark P. O. Morford</td>\n",
       "      <td>2002</td>\n",
       "      <td>Oxford University Press</td>\n",
       "    </tr>\n",
       "    <tr>\n",
       "      <th>1</th>\n",
       "      <td>0002005018</td>\n",
       "      <td>Clara Callan</td>\n",
       "      <td>Richard Bruce Wright</td>\n",
       "      <td>2001</td>\n",
       "      <td>HarperFlamingo Canada</td>\n",
       "    </tr>\n",
       "    <tr>\n",
       "      <th>2</th>\n",
       "      <td>0060973129</td>\n",
       "      <td>Decision in Normandy</td>\n",
       "      <td>Carlo D'Este</td>\n",
       "      <td>1991</td>\n",
       "      <td>HarperPerennial</td>\n",
       "    </tr>\n",
       "    <tr>\n",
       "      <th>3</th>\n",
       "      <td>0374157065</td>\n",
       "      <td>Flu: The Story of the Great Influenza Pandemic...</td>\n",
       "      <td>Gina Bari Kolata</td>\n",
       "      <td>1999</td>\n",
       "      <td>Farrar Straus Giroux</td>\n",
       "    </tr>\n",
       "    <tr>\n",
       "      <th>4</th>\n",
       "      <td>0393045218</td>\n",
       "      <td>The Mummies of Urumchi</td>\n",
       "      <td>E. J. W. Barber</td>\n",
       "      <td>1999</td>\n",
       "      <td>W. W. Norton &amp; Company</td>\n",
       "    </tr>\n",
       "  </tbody>\n",
       "</table>\n",
       "</div>"
      ],
      "text/plain": [
       "         ISBN                                              Title  \\\n",
       "0  0195153448                                Classical Mythology   \n",
       "1  0002005018                                       Clara Callan   \n",
       "2  0060973129                               Decision in Normandy   \n",
       "3  0374157065  Flu: The Story of the Great Influenza Pandemic...   \n",
       "4  0393045218                             The Mummies of Urumchi   \n",
       "\n",
       "                 Author  Year                Publisher  \n",
       "0    Mark P. O. Morford  2002  Oxford University Press  \n",
       "1  Richard Bruce Wright  2001    HarperFlamingo Canada  \n",
       "2          Carlo D'Este  1991          HarperPerennial  \n",
       "3      Gina Bari Kolata  1999     Farrar Straus Giroux  \n",
       "4       E. J. W. Barber  1999   W. W. Norton & Company  "
      ]
     },
     "execution_count": 4,
     "metadata": {},
     "output_type": "execute_result"
    }
   ],
   "source": [
    "books.head()"
   ]
  },
  {
   "cell_type": "code",
   "execution_count": 5,
   "id": "5bc84bfd",
   "metadata": {},
   "outputs": [
    {
     "data": {
      "text/html": [
       "<div>\n",
       "<style scoped>\n",
       "    .dataframe tbody tr th:only-of-type {\n",
       "        vertical-align: middle;\n",
       "    }\n",
       "\n",
       "    .dataframe tbody tr th {\n",
       "        vertical-align: top;\n",
       "    }\n",
       "\n",
       "    .dataframe thead th {\n",
       "        text-align: right;\n",
       "    }\n",
       "</style>\n",
       "<table border=\"1\" class=\"dataframe\">\n",
       "  <thead>\n",
       "    <tr style=\"text-align: right;\">\n",
       "      <th></th>\n",
       "      <th>User-ID</th>\n",
       "      <th>Age</th>\n",
       "    </tr>\n",
       "  </thead>\n",
       "  <tbody>\n",
       "    <tr>\n",
       "      <th>0</th>\n",
       "      <td>1</td>\n",
       "      <td>NaN</td>\n",
       "    </tr>\n",
       "    <tr>\n",
       "      <th>1</th>\n",
       "      <td>2</td>\n",
       "      <td>18</td>\n",
       "    </tr>\n",
       "    <tr>\n",
       "      <th>2</th>\n",
       "      <td>3</td>\n",
       "      <td>NaN</td>\n",
       "    </tr>\n",
       "    <tr>\n",
       "      <th>3</th>\n",
       "      <td>4</td>\n",
       "      <td>17</td>\n",
       "    </tr>\n",
       "    <tr>\n",
       "      <th>4</th>\n",
       "      <td>5</td>\n",
       "      <td>NaN</td>\n",
       "    </tr>\n",
       "  </tbody>\n",
       "</table>\n",
       "</div>"
      ],
      "text/plain": [
       "  User-ID  Age\n",
       "0       1  NaN\n",
       "1       2   18\n",
       "2       3  NaN\n",
       "3       4   17\n",
       "4       5  NaN"
      ]
     },
     "execution_count": 5,
     "metadata": {},
     "output_type": "execute_result"
    }
   ],
   "source": [
    "users.head()"
   ]
  },
  {
   "cell_type": "code",
   "execution_count": 6,
   "id": "aa340368",
   "metadata": {},
   "outputs": [
    {
     "data": {
      "text/html": [
       "<div>\n",
       "<style scoped>\n",
       "    .dataframe tbody tr th:only-of-type {\n",
       "        vertical-align: middle;\n",
       "    }\n",
       "\n",
       "    .dataframe tbody tr th {\n",
       "        vertical-align: top;\n",
       "    }\n",
       "\n",
       "    .dataframe thead th {\n",
       "        text-align: right;\n",
       "    }\n",
       "</style>\n",
       "<table border=\"1\" class=\"dataframe\">\n",
       "  <thead>\n",
       "    <tr style=\"text-align: right;\">\n",
       "      <th></th>\n",
       "      <th>User-ID</th>\n",
       "      <th>ISBN</th>\n",
       "      <th>Rating</th>\n",
       "    </tr>\n",
       "  </thead>\n",
       "  <tbody>\n",
       "    <tr>\n",
       "      <th>0</th>\n",
       "      <td>276725</td>\n",
       "      <td>034545104X</td>\n",
       "      <td>0</td>\n",
       "    </tr>\n",
       "    <tr>\n",
       "      <th>1</th>\n",
       "      <td>276726</td>\n",
       "      <td>0155061224</td>\n",
       "      <td>5</td>\n",
       "    </tr>\n",
       "    <tr>\n",
       "      <th>2</th>\n",
       "      <td>276727</td>\n",
       "      <td>0446520802</td>\n",
       "      <td>0</td>\n",
       "    </tr>\n",
       "    <tr>\n",
       "      <th>3</th>\n",
       "      <td>276729</td>\n",
       "      <td>052165615X</td>\n",
       "      <td>3</td>\n",
       "    </tr>\n",
       "    <tr>\n",
       "      <th>4</th>\n",
       "      <td>276729</td>\n",
       "      <td>0521795028</td>\n",
       "      <td>6</td>\n",
       "    </tr>\n",
       "  </tbody>\n",
       "</table>\n",
       "</div>"
      ],
      "text/plain": [
       "   User-ID        ISBN  Rating\n",
       "0   276725  034545104X       0\n",
       "1   276726  0155061224       5\n",
       "2   276727  0446520802       0\n",
       "3   276729  052165615X       3\n",
       "4   276729  0521795028       6"
      ]
     },
     "execution_count": 6,
     "metadata": {},
     "output_type": "execute_result"
    }
   ],
   "source": [
    "ratings.head()"
   ]
  },
  {
   "cell_type": "markdown",
   "id": "e467d3bd",
   "metadata": {},
   "source": [
    "### Junção dos dados em um unico dataset"
   ]
  },
  {
   "cell_type": "code",
   "execution_count": 9,
   "id": "78c987fd",
   "metadata": {},
   "outputs": [],
   "source": [
    "min_user_ratings = 5  # Usuarios que avaliaram no minimo 5 livros\n",
    "min_book_ratings = 10  # Livros com no minimo 10 avaliações\n",
    "\n",
    "user_counts = ratings['User-ID'].value_counts()\n",
    "book_counts = ratings['ISBN'].value_counts()\n",
    "\n",
    "filtered_ratings = ratings[\n",
    "    ratings['User-ID'].isin(user_counts[user_counts >= min_user_ratings].index) &\n",
    "    ratings['ISBN'].isin(book_counts[book_counts >= min_book_ratings].index)\n",
    "]"
   ]
  },
  {
   "cell_type": "markdown",
   "id": "30546e85",
   "metadata": {},
   "source": [
    "### Criação da matriz de interações"
   ]
  },
  {
   "cell_type": "code",
   "execution_count": 11,
   "id": "6fc89e7c",
   "metadata": {},
   "outputs": [],
   "source": [
    "interaction_matrix = filtered_ratings.pivot(index='User-ID', columns='ISBN', values='Rating')\n",
    "interaction_matrix = interaction_matrix.fillna(0)"
   ]
  },
  {
   "cell_type": "code",
   "execution_count": 18,
   "id": "7279856d",
   "metadata": {},
   "outputs": [
    {
     "data": {
      "text/html": [
       "<div>\n",
       "<style scoped>\n",
       "    .dataframe tbody tr th:only-of-type {\n",
       "        vertical-align: middle;\n",
       "    }\n",
       "\n",
       "    .dataframe tbody tr th {\n",
       "        vertical-align: top;\n",
       "    }\n",
       "\n",
       "    .dataframe thead th {\n",
       "        text-align: right;\n",
       "    }\n",
       "</style>\n",
       "<table border=\"1\" class=\"dataframe\">\n",
       "  <thead>\n",
       "    <tr style=\"text-align: right;\">\n",
       "      <th>ISBN</th>\n",
       "      <th>000000000</th>\n",
       "      <th>0002005018</th>\n",
       "      <th>0002251760</th>\n",
       "      <th>0002255081</th>\n",
       "      <th>0002257203</th>\n",
       "      <th>0002259001</th>\n",
       "      <th>0002259834</th>\n",
       "      <th>0002558122</th>\n",
       "      <th>0006172768</th>\n",
       "      <th>0006374921</th>\n",
       "      <th>...</th>\n",
       "      <th>9724119378</th>\n",
       "      <th>9726101794</th>\n",
       "      <th>9726106141</th>\n",
       "      <th>9726116902</th>\n",
       "      <th>9727591965</th>\n",
       "      <th>9727722458</th>\n",
       "      <th>9770390107900</th>\n",
       "      <th>9871138016</th>\n",
       "      <th>9871138148</th>\n",
       "      <th>B00009EF82</th>\n",
       "    </tr>\n",
       "    <tr>\n",
       "      <th>User-ID</th>\n",
       "      <th></th>\n",
       "      <th></th>\n",
       "      <th></th>\n",
       "      <th></th>\n",
       "      <th></th>\n",
       "      <th></th>\n",
       "      <th></th>\n",
       "      <th></th>\n",
       "      <th></th>\n",
       "      <th></th>\n",
       "      <th></th>\n",
       "      <th></th>\n",
       "      <th></th>\n",
       "      <th></th>\n",
       "      <th></th>\n",
       "      <th></th>\n",
       "      <th></th>\n",
       "      <th></th>\n",
       "      <th></th>\n",
       "      <th></th>\n",
       "      <th></th>\n",
       "    </tr>\n",
       "  </thead>\n",
       "  <tbody>\n",
       "    <tr>\n",
       "      <th>100004</th>\n",
       "      <td>0.0</td>\n",
       "      <td>0.0</td>\n",
       "      <td>0.0</td>\n",
       "      <td>0.0</td>\n",
       "      <td>0.0</td>\n",
       "      <td>0.0</td>\n",
       "      <td>0.0</td>\n",
       "      <td>0.0</td>\n",
       "      <td>0.0</td>\n",
       "      <td>0.0</td>\n",
       "      <td>...</td>\n",
       "      <td>0.0</td>\n",
       "      <td>0.0</td>\n",
       "      <td>0.0</td>\n",
       "      <td>0.0</td>\n",
       "      <td>0.0</td>\n",
       "      <td>0.0</td>\n",
       "      <td>0.0</td>\n",
       "      <td>0.0</td>\n",
       "      <td>0.0</td>\n",
       "      <td>0.0</td>\n",
       "    </tr>\n",
       "    <tr>\n",
       "      <th>100009</th>\n",
       "      <td>0.0</td>\n",
       "      <td>0.0</td>\n",
       "      <td>0.0</td>\n",
       "      <td>0.0</td>\n",
       "      <td>0.0</td>\n",
       "      <td>0.0</td>\n",
       "      <td>0.0</td>\n",
       "      <td>0.0</td>\n",
       "      <td>0.0</td>\n",
       "      <td>0.0</td>\n",
       "      <td>...</td>\n",
       "      <td>0.0</td>\n",
       "      <td>0.0</td>\n",
       "      <td>0.0</td>\n",
       "      <td>0.0</td>\n",
       "      <td>0.0</td>\n",
       "      <td>0.0</td>\n",
       "      <td>0.0</td>\n",
       "      <td>0.0</td>\n",
       "      <td>0.0</td>\n",
       "      <td>0.0</td>\n",
       "    </tr>\n",
       "    <tr>\n",
       "      <th>10001</th>\n",
       "      <td>0.0</td>\n",
       "      <td>0.0</td>\n",
       "      <td>0.0</td>\n",
       "      <td>0.0</td>\n",
       "      <td>0.0</td>\n",
       "      <td>0.0</td>\n",
       "      <td>0.0</td>\n",
       "      <td>0.0</td>\n",
       "      <td>0.0</td>\n",
       "      <td>0.0</td>\n",
       "      <td>...</td>\n",
       "      <td>0.0</td>\n",
       "      <td>0.0</td>\n",
       "      <td>0.0</td>\n",
       "      <td>0.0</td>\n",
       "      <td>0.0</td>\n",
       "      <td>0.0</td>\n",
       "      <td>0.0</td>\n",
       "      <td>0.0</td>\n",
       "      <td>0.0</td>\n",
       "      <td>0.0</td>\n",
       "    </tr>\n",
       "    <tr>\n",
       "      <th>100010</th>\n",
       "      <td>0.0</td>\n",
       "      <td>0.0</td>\n",
       "      <td>0.0</td>\n",
       "      <td>0.0</td>\n",
       "      <td>0.0</td>\n",
       "      <td>0.0</td>\n",
       "      <td>0.0</td>\n",
       "      <td>0.0</td>\n",
       "      <td>0.0</td>\n",
       "      <td>0.0</td>\n",
       "      <td>...</td>\n",
       "      <td>0.0</td>\n",
       "      <td>0.0</td>\n",
       "      <td>0.0</td>\n",
       "      <td>0.0</td>\n",
       "      <td>0.0</td>\n",
       "      <td>0.0</td>\n",
       "      <td>0.0</td>\n",
       "      <td>0.0</td>\n",
       "      <td>0.0</td>\n",
       "      <td>0.0</td>\n",
       "    </tr>\n",
       "    <tr>\n",
       "      <th>100029</th>\n",
       "      <td>0.0</td>\n",
       "      <td>0.0</td>\n",
       "      <td>0.0</td>\n",
       "      <td>0.0</td>\n",
       "      <td>0.0</td>\n",
       "      <td>0.0</td>\n",
       "      <td>0.0</td>\n",
       "      <td>0.0</td>\n",
       "      <td>0.0</td>\n",
       "      <td>0.0</td>\n",
       "      <td>...</td>\n",
       "      <td>0.0</td>\n",
       "      <td>0.0</td>\n",
       "      <td>0.0</td>\n",
       "      <td>0.0</td>\n",
       "      <td>0.0</td>\n",
       "      <td>0.0</td>\n",
       "      <td>0.0</td>\n",
       "      <td>0.0</td>\n",
       "      <td>0.0</td>\n",
       "      <td>0.0</td>\n",
       "    </tr>\n",
       "  </tbody>\n",
       "</table>\n",
       "<p>5 rows × 18318 columns</p>\n",
       "</div>"
      ],
      "text/plain": [
       "ISBN     000000000  0002005018  0002251760  0002255081  0002257203  \\\n",
       "User-ID                                                              \n",
       "100004         0.0         0.0         0.0         0.0         0.0   \n",
       "100009         0.0         0.0         0.0         0.0         0.0   \n",
       "10001          0.0         0.0         0.0         0.0         0.0   \n",
       "100010         0.0         0.0         0.0         0.0         0.0   \n",
       "100029         0.0         0.0         0.0         0.0         0.0   \n",
       "\n",
       "ISBN     0002259001  0002259834  0002558122  0006172768  0006374921  ...  \\\n",
       "User-ID                                                              ...   \n",
       "100004          0.0         0.0         0.0         0.0         0.0  ...   \n",
       "100009          0.0         0.0         0.0         0.0         0.0  ...   \n",
       "10001           0.0         0.0         0.0         0.0         0.0  ...   \n",
       "100010          0.0         0.0         0.0         0.0         0.0  ...   \n",
       "100029          0.0         0.0         0.0         0.0         0.0  ...   \n",
       "\n",
       "ISBN     9724119378  9726101794  9726106141  9726116902  9727591965  \\\n",
       "User-ID                                                               \n",
       "100004          0.0         0.0         0.0         0.0         0.0   \n",
       "100009          0.0         0.0         0.0         0.0         0.0   \n",
       "10001           0.0         0.0         0.0         0.0         0.0   \n",
       "100010          0.0         0.0         0.0         0.0         0.0   \n",
       "100029          0.0         0.0         0.0         0.0         0.0   \n",
       "\n",
       "ISBN     9727722458  9770390107900  9871138016  9871138148  B00009EF82  \n",
       "User-ID                                                                 \n",
       "100004          0.0            0.0         0.0         0.0         0.0  \n",
       "100009          0.0            0.0         0.0         0.0         0.0  \n",
       "10001           0.0            0.0         0.0         0.0         0.0  \n",
       "100010          0.0            0.0         0.0         0.0         0.0  \n",
       "100029          0.0            0.0         0.0         0.0         0.0  \n",
       "\n",
       "[5 rows x 18318 columns]"
      ]
     },
     "execution_count": 18,
     "metadata": {},
     "output_type": "execute_result"
    }
   ],
   "source": [
    "# exibir os valores:\n",
    "interaction_matrix.head()"
   ]
  },
  {
   "cell_type": "markdown",
   "id": "34a22190",
   "metadata": {},
   "source": [
    "## KNN"
   ]
  },
  {
   "cell_type": "markdown",
   "id": "4c9e4922",
   "metadata": {},
   "source": [
    "### Calculando a distancia euclidiana"
   ]
  },
  {
   "cell_type": "code",
   "execution_count": 14,
   "id": "0c9695f8",
   "metadata": {},
   "outputs": [],
   "source": [
    "distance_matrix = pairwise_distances(interaction_matrix, metric='euclidean')\n",
    "distance_df = pd.DataFrame(distance_matrix, index=interaction_matrix.index, columns=interaction_matrix.index)"
   ]
  },
  {
   "cell_type": "markdown",
   "id": "7c5e569d",
   "metadata": {},
   "source": [
    "### Encontrando os K-vizinhos mais proximos"
   ]
  },
  {
   "cell_type": "code",
   "execution_count": null,
   "id": "8299f0bf",
   "metadata": {},
   "outputs": [],
   "source": [
    "def get_nearest_neighbors(user_id, k):\n",
    "    distances = distance_df.loc[user_id]\n",
    "    neighbors = distances.sort_values().iloc[1:k+1]\n",
    "    return neighbors.index"
   ]
  },
  {
   "cell_type": "markdown",
   "id": "4a196d79",
   "metadata": {},
   "source": [
    "### Gerando as recomendações"
   ]
  },
  {
   "cell_type": "code",
   "execution_count": null,
   "id": "2eceadca",
   "metadata": {},
   "outputs": [],
   "source": [
    "def recommend_books(user_id, k, n_recommendations):\n",
    "    if user_id not in interaction_matrix.index:\n",
    "        raise ValueError(f\"Usuário {user_id} não encontrado na matriz de interação.\")\n",
    "\n",
    "    neighbors = get_nearest_neighbors(user_id, k)\n",
    "    neighbor_ratings = interaction_matrix.loc[neighbors]\n",
    "    \n",
    "    mean_ratings = neighbor_ratings.mean(axis=0)\n",
    "    \n",
    "    unread_books = interaction_matrix.loc[user_id] == 0\n",
    "    recommendations = mean_ratings[unread_books].sort_values(ascending=False).head(n_recommendations)\n",
    "    \n",
    "    recommendations = recommendations.reset_index().merge(\n",
    "        books, left_on='ISBN', right_on='ISBN'\n",
    "    )\n",
    "    \n",
    "    return recommendations[['Title', 'ISBN', 0]].rename(columns={0: 'Predicted-Rating'})"
   ]
  },
  {
   "cell_type": "markdown",
   "id": "c714f861",
   "metadata": {},
   "source": [
    "### Testando o algoritmo"
   ]
  },
  {
   "cell_type": "code",
   "execution_count": 27,
   "id": "41b2ed04",
   "metadata": {},
   "outputs": [
    {
     "name": "stdout",
     "output_type": "stream",
     "text": [
      "                                               Title        ISBN  \\\n",
      "0  Harry Potter and the Prisoner of Azkaban (Book 3)  0439136369   \n",
      "1                                     Atlantis Found  0425177173   \n",
      "2                            Whirlwind (The X-Files)  0061054151   \n",
      "3                                    Julie and Romeo  0609606727   \n",
      "4                                        Angel Falls  0609605925   \n",
      "\n",
      "   Predicted-Rating  \n",
      "0               2.8  \n",
      "1               1.8  \n",
      "2               1.6  \n",
      "3               0.0  \n",
      "4               0.0  \n"
     ]
    }
   ],
   "source": [
    "recommended_books = recommend_books(\"100004\", 5, 5)\n",
    "print(recommended_books)"
   ]
  }
 ],
 "metadata": {
  "kernelspec": {
   "display_name": "Python 3 (ipykernel)",
   "language": "python",
   "name": "python3"
  },
  "language_info": {
   "codemirror_mode": {
    "name": "ipython",
    "version": 3
   },
   "file_extension": ".py",
   "mimetype": "text/x-python",
   "name": "python",
   "nbconvert_exporter": "python",
   "pygments_lexer": "ipython3",
   "version": "3.13.0"
  }
 },
 "nbformat": 4,
 "nbformat_minor": 5
}
